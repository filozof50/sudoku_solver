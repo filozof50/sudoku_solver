{
 "cells": [
  {
   "cell_type": "code",
   "execution_count": 12,
   "metadata": {},
   "outputs": [],
   "source": [
    "from sklearn import model_selection\n",
    "from keras import Sequential\n",
    "from keras import datasets\n",
    "from keras.layers import *\n",
    "from keras.models import *\n",
    "from keras.optimizers import Adam\n",
    "from keras import losses\n",
    "import matplotlib.pyplot as plt\n",
    "from keras.utils import to_categorical\n",
    "from keras.callbacks import EarlyStopping, ModelCheckpoint"
   ]
  },
  {
   "cell_type": "code",
   "execution_count": 13,
   "metadata": {},
   "outputs": [],
   "source": [
    "# import os, sys\n",
    "# from IPython.display import display\n",
    "# from IPython.display import Image as _Imgdis\n",
    "# from PIL import Image\n",
    "# import numpy as np\n",
    "# from time import time\n",
    "# from time import sleep\n",
    "# from scipy import ndimage\n",
    "# from keras.preprocessing.image import ImageDataGenerator, array_to_img, img_to_array, load_img\n",
    "\n",
    "# folder = \"/home/strahinja/Desktop/git/sudoku_solver/train_digits/digits/\"\n",
    "\n",
    "# onlyfiles = [f for f in os.listdir(folder) if os.path.isfile(os.path.join(folder, f))]\n",
    "\n",
    "# files = []\n",
    "# y = []\n",
    "# i=0\n",
    "# for _file in onlyfiles:\n",
    "#     files.append(_file)\n",
    "#     label_in_file = _file.rfind(\"_\")\n",
    "#     label_in_file = label_in_file + 1\n",
    "#     y.append(int(_file[label_in_file:label_in_file + 1]))\n",
    "\n",
    "# image_size = 30\n",
    "\n",
    "# x = np.ndarray(shape=(len(files), image_size, image_size),\n",
    "#                      dtype=int)\n",
    "\n",
    "# i = 0\n",
    "# for _file in files:\n",
    "#     img = load_img(folder + \"/\" + _file)\n",
    "#     img.thumbnail((image_size, image_size))\n",
    "#     img = img_to_array(img)\n",
    "#     img = img.reshape(image_size, image_size, 3)\n",
    "#     img = np.mean(img, axis = 2)\n",
    "#     x[i] = img\n",
    "#     i += 1\n",
    "    \n",
    "# print(type(x))"
   ]
  },
  {
   "cell_type": "code",
   "execution_count": 14,
   "metadata": {},
   "outputs": [],
   "source": [
    "# np.save('dataset_x', x)\n",
    "# np.save('dataset_y', y)"
   ]
  },
  {
   "cell_type": "code",
   "execution_count": 15,
   "metadata": {},
   "outputs": [],
   "source": [
    "x = np.load('dataset_x.npy')\n",
    "y = np.load('dataset_y.npy')"
   ]
  },
  {
   "cell_type": "code",
   "execution_count": 19,
   "metadata": {},
   "outputs": [
    {
     "name": "stdout",
     "output_type": "stream",
     "text": [
      "6\n"
     ]
    },
    {
     "data": {
      "image/png": "[encoded data removed]",
      "text/plain": [
       "<Figure size 432x288 with 1 Axes>"
      ]
     },
     "metadata": {
      "needs_background": "light"
     },
     "output_type": "display_data"
    }
   ],
   "source": [
    "plt.imshow(x[3652])\n",
    "print(y[3652])"
   ]
  },
  {
   "cell_type": "code",
   "execution_count": 31,
   "metadata": {},
   "outputs": [],
   "source": [
    "x_train, x_test, y_train, y_test = model_selection.train_test_split(x, y, test_size = 0.33, random_state = 7, stratify = y)"
   ]
  },
  {
   "cell_type": "code",
   "execution_count": 32,
   "metadata": {},
   "outputs": [],
   "source": [
    "image_size = 30\n",
    "network = Sequential()\n",
    "network.add(Conv2D(input_shape=(image_size, image_size, 1), filters=32, kernel_size=(3,3), strides=(1,1), padding='same'))\n",
    "network.add(MaxPooling2D(pool_size=(2,2), strides=(1,1)))\n",
    "network.add(Conv2D(filters=32, kernel_size=(3,3), strides=(1,1), padding='same'))\n",
    "network.add(MaxPooling2D(pool_size=(2,2), strides=(1,1)))\n",
    "network.add(Conv2D(filters=64, kernel_size=(3,3), strides=(1,1), padding='same'))\n",
    "network.add(MaxPooling2D(pool_size=(2,2), strides=(1,1)))\n",
    "network.add(Conv2D(filters=32, kernel_size=(3,3), strides=(1,1), padding='same'))\n",
    "network.add(MaxPooling2D(pool_size=(2,2), strides=(1,1)))\n",
    "network.add(Flatten())\n",
    "network.add(Dense(units=32, activation='relu'))\n",
    "network.add(Dense(units=10, activation='softmax'))"
   ]
  },
  {
   "cell_type": "code",
   "execution_count": 33,
   "metadata": {},
   "outputs": [],
   "source": [
    "network.compile(optimizer='adam', loss = losses.categorical_crossentropy, metrics=['acc'])"
   ]
  },
  {
   "cell_type": "code",
   "execution_count": 34,
   "metadata": {},
   "outputs": [
    {
     "data": {
      "text/plain": [
       "(30, 30)"
      ]
     },
     "execution_count": 34,
     "metadata": {},
     "output_type": "execute_result"
    }
   ],
   "source": [
    "x_train[0].shape"
   ]
  },
  {
   "cell_type": "code",
   "execution_count": 35,
   "metadata": {},
   "outputs": [
    {
     "data": {
      "text/plain": [
       "(67067, 30, 30)"
      ]
     },
     "execution_count": 35,
     "metadata": {},
     "output_type": "execute_result"
    }
   ],
   "source": [
    "x_train = x_train / 255\n",
    "x_test = x_test / 255\n",
    "\n",
    "x_train.shape"
   ]
  },
  {
   "cell_type": "code",
   "execution_count": 36,
   "metadata": {},
   "outputs": [
    {
     "data": {
      "text/plain": [
       "(67067, 30, 30, 1)"
      ]
     },
     "execution_count": 36,
     "metadata": {},
     "output_type": "execute_result"
    }
   ],
   "source": [
    "x_train = x_train.reshape(x_train.shape[0], x_train[0].shape[0], x_train[0].shape[0], 1)\n",
    "x_test = x_test.reshape(x_test.shape[0], x_test[0].shape[0], x_test[0].shape[0], 1)\n",
    "x_train.shape"
   ]
  },
  {
   "cell_type": "code",
   "execution_count": 37,
   "metadata": {},
   "outputs": [],
   "source": [
    "y_train = to_categorical(y_train, num_classes=10)\n",
    "y_test = to_categorical(y_test, num_classes=10)"
   ]
  },
  {
   "cell_type": "code",
   "execution_count": 38,
   "metadata": {},
   "outputs": [
    {
     "name": "stdout",
     "output_type": "stream",
     "text": [
      "Epoch 1/10\n",
      "67067/67067 [==============================] - 120s 2ms/step - loss: 0.0151 - acc: 0.9945\n",
      "Epoch 2/10\n",
      "67067/67067 [==============================] - 114s 2ms/step - loss: 3.3002e-07 - acc: 1.0000\n",
      "Epoch 3/10\n",
      "67067/67067 [==============================] - 115s 2ms/step - loss: 2.0619e-07 - acc: 1.0000\n",
      "Epoch 4/10\n",
      "67067/67067 [==============================] - 115s 2ms/step - loss: 1.5940e-07 - acc: 1.0000\n",
      "Epoch 5/10\n",
      "67067/67067 [==============================] - 114s 2ms/step - loss: 1.3659e-07 - acc: 1.0000\n",
      "Epoch 6/10\n",
      "67067/67067 [==============================] - 150s 2ms/step - loss: 1.2677e-07 - acc: 1.0000\n",
      "Epoch 7/10\n",
      "67067/67067 [==============================] - 113s 2ms/step - loss: 1.2208e-07 - acc: 1.0000\n",
      "Epoch 8/10\n",
      "67067/67067 [==============================] - 113s 2ms/step - loss: 1.1976e-07 - acc: 1.0000\n",
      "Epoch 9/10\n",
      "67067/67067 [==============================] - 113s 2ms/step - loss: 1.1921e-07 - acc: 1.0000\n",
      "Epoch 10/10\n",
      "67067/67067 [==============================] - 112s 2ms/step - loss: 1.1921e-07 - acc: 1.0000\n"
     ]
    }
   ],
   "source": [
    "history = network.fit(x_train, y_train, batch_size=64, epochs=10, verbose=1)"
   ]
  },
  {
   "cell_type": "code",
   "execution_count": 39,
   "metadata": {},
   "outputs": [
    {
     "name": "stdout",
     "output_type": "stream",
     "text": [
      "33033/33033 [==============================] - 19s 579us/step\n"
     ]
    },
    {
     "data": {
      "text/plain": [
       "[1.1920928955078125e-07, 1.0]"
      ]
     },
     "execution_count": 39,
     "metadata": {},
     "output_type": "execute_result"
    }
   ],
   "source": [
    "network.evaluate(x_test, y_test)"
   ]
  },
  {
   "cell_type": "code",
   "execution_count": null,
   "metadata": {},
   "outputs": [],
   "source": [
    "x = x / 255"
   ]
  },
  {
   "cell_type": "code",
   "execution_count": 41,
   "metadata": {},
   "outputs": [],
   "source": [
    "x = x.reshape(x.shape[0], x[0].shape[0], x[0].shape[0], 1)\n",
    "y = to_categorical(y, num_classes=10)"
   ]
  },
  {
   "cell_type": "code",
   "execution_count": 42,
   "metadata": {},
   "outputs": [
    {
     "name": "stdout",
     "output_type": "stream",
     "text": [
      "Epoch 1/10\n",
      "100100/100100 [==============================] - 164s 2ms/step - loss: 1.1921e-07 - acc: 1.0000\n",
      "Epoch 2/10\n",
      "100100/100100 [==============================] - 167s 2ms/step - loss: 1.1921e-07 - acc: 1.0000\n",
      "Epoch 3/10\n",
      "100100/100100 [==============================] - 167s 2ms/step - loss: 1.1921e-07 - acc: 1.0000\n",
      "Epoch 4/10\n",
      "100100/100100 [==============================] - 168s 2ms/step - loss: 1.1921e-07 - acc: 1.0000\n",
      "Epoch 5/10\n",
      "100100/100100 [==============================] - 169s 2ms/step - loss: 1.1921e-07 - acc: 1.0000\n",
      "Epoch 6/10\n",
      "100100/100100 [==============================] - 166s 2ms/step - loss: 1.1921e-07 - acc: 1.0000\n",
      "Epoch 7/10\n",
      "100100/100100 [==============================] - 168s 2ms/step - loss: 1.1921e-07 - acc: 1.0000\n",
      "Epoch 8/10\n",
      "100100/100100 [==============================] - 168s 2ms/step - loss: 1.1921e-07 - acc: 1.0000\n",
      "Epoch 9/10\n",
      "100100/100100 [==============================] - 168s 2ms/step - loss: 1.1921e-07 - acc: 1.0000\n",
      "Epoch 10/10\n",
      "100100/100100 [==============================] - 168s 2ms/step - loss: 1.1921e-07 - acc: 1.0000\n"
     ]
    }
   ],
   "source": [
    "history = network.fit(x, y, batch_size=64, epochs=10, verbose=1)"
   ]
  },
  {
   "cell_type": "code",
   "execution_count": 43,
   "metadata": {},
   "outputs": [],
   "source": [
    "network.save('neural.hdf5')"
   ]
  }
 ],
 "metadata": {
  "kernelspec": {
   "display_name": "Python 3",
   "language": "python",
   "name": "python3"
  },
  "language_info": {
   "codemirror_mode": {
    "name": "ipython",
    "version": 3
   },
   "file_extension": ".py",
   "mimetype": "text/x-python",
   "name": "python",
   "nbconvert_exporter": "python",
   "pygments_lexer": "ipython3",
   "version": "3.6.8"
  }
 },
 "nbformat": 4,
 "nbformat_minor": 2
}
