{
 "cells": [
  {
   "cell_type": "code",
   "execution_count": 2,
   "metadata": {},
   "outputs": [],
   "source": [
    "import shutil\n",
    "import time\n",
    "import os\n",
    "\n",
    "rootdir = \"/home/strahinja/Desktop/valjda_kraj/new_kraj/digits_filtered/\"\n",
    "final = \"/home/strahinja/Desktop/valjda_kraj/new_kraj/dataset_filtered/\"\n",
    "\n",
    "for subdir, dirs, files in os.walk(rootdir):\n",
    "    for i in range(101):\n",
    "        for file in files:\n",
    "            name = str(time.time()) + \"_\" + file[:-4] + \".png\"\n",
    "            shutil.copy(os.path.join(rootdir, file), os.path.join(final, name))"
   ]
  },
  {
   "cell_type": "code",
   "execution_count": null,
   "metadata": {},
   "outputs": [],
   "source": []
  }
 ],
 "metadata": {
  "kernelspec": {
   "display_name": "Python 3",
   "language": "python",
   "name": "python3"
  },
  "language_info": {
   "codemirror_mode": {
    "name": "ipython",
    "version": 3
   },
   "file_extension": ".py",
   "mimetype": "text/x-python",
   "name": "python",
   "nbconvert_exporter": "python",
   "pygments_lexer": "ipython3",
   "version": "3.7.4"
  }
 },
 "nbformat": 4,
 "nbformat_minor": 2
}
