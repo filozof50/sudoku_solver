{
 "cells": [
  {
   "cell_type": "code",
   "execution_count": 1,
   "metadata": {},
   "outputs": [
    {
     "name": "stderr",
     "output_type": "stream",
     "text": [
      "Using TensorFlow backend.\n"
     ]
    }
   ],
   "source": [
    "from sklearn import model_selection\n",
    "from keras import Sequential\n",
    "from keras import datasets\n",
    "from keras.layers import *\n",
    "from keras.models import *\n",
    "from keras.optimizers import Adam\n",
    "from keras import losses\n",
    "import matplotlib.pyplot as plt\n",
    "from keras.utils import to_categorical\n",
    "from keras.callbacks import EarlyStopping, ModelCheckpoint"
   ]
  },
  {
   "cell_type": "code",
   "execution_count": 2,
   "metadata": {},
   "outputs": [
    {
     "name": "stdout",
     "output_type": "stream",
     "text": [
      "<class 'numpy.ndarray'>\n"
     ]
    }
   ],
   "source": [
    "import os, sys\n",
    "from IPython.display import display\n",
    "from IPython.display import Image as _Imgdis\n",
    "from PIL import Image\n",
    "import numpy as np\n",
    "from time import time\n",
    "from time import sleep\n",
    "from scipy import ndimage\n",
    "from keras.preprocessing.image import ImageDataGenerator, array_to_img, img_to_array, load_img\n",
    "\n",
    "folder = \"/home/strahinja/Desktop/valjda_kraj/new_kraj/dataset_filtered/\"\n",
    "\n",
    "onlyfiles = [f for f in os.listdir(folder) if os.path.isfile(os.path.join(folder, f))]\n",
    "\n",
    "files = []\n",
    "y = []\n",
    "i=0\n",
    "for _file in onlyfiles:\n",
    "    files.append(_file)\n",
    "    label_in_file = _file.rfind(\"_\")\n",
    "    label_in_file = label_in_file + 1\n",
    "    y.append(int(_file[label_in_file:label_in_file + 1]))\n",
    "\n",
    "image_size = 30\n",
    "\n",
    "x = np.ndarray(shape=(len(files), image_size, image_size),\n",
    "                     dtype=int)\n",
    "\n",
    "i = 0\n",
    "for _file in files:\n",
    "    img = load_img(folder + \"/\" + _file)\n",
    "    img.thumbnail((image_size, image_size))\n",
    "    img = img_to_array(img)\n",
    "    img = img.reshape(image_size, image_size, 3)\n",
    "    img = np.mean(img, axis = 2)\n",
    "    x[i] = img\n",
    "    i += 1\n",
    "    \n",
    "print(type(x))"
   ]
  },
  {
   "cell_type": "code",
   "execution_count": 3,
   "metadata": {},
   "outputs": [],
   "source": [
    "# np.save('dataset_x', x)\n",
    "# np.save('dataset_y', y)"
   ]
  },
  {
   "cell_type": "code",
   "execution_count": 4,
   "metadata": {},
   "outputs": [],
   "source": [
    "# x = np.load('new_dataset_x.npy')\n",
    "# y = np.load('new_dataset_y.npy')"
   ]
  },
  {
   "cell_type": "code",
   "execution_count": 5,
   "metadata": {},
   "outputs": [
    {
     "name": "stdout",
     "output_type": "stream",
     "text": [
      "9\n"
     ]
    },
    {
     "data": {
      "image/png": "[encoded data removed]",
      "text/plain": [
       "<Figure size 432x288 with 1 Axes>"
      ]
     },
     "metadata": {
      "needs_background": "light"
     },
     "output_type": "display_data"
    }
   ],
   "source": [
    "plt.imshow(x[26])\n",
    "print(y[26])"
   ]
  },
  {
   "cell_type": "code",
   "execution_count": 6,
   "metadata": {},
   "outputs": [],
   "source": [
    "x_train, x_test, y_train, y_test = model_selection.train_test_split(x, y, test_size = 0.33, random_state = 7, stratify = y)"
   ]
  },
  {
   "cell_type": "code",
   "execution_count": 7,
   "metadata": {},
   "outputs": [],
   "source": [
    "image_size = 30\n",
    "network = Sequential()\n",
    "network.add(Conv2D(input_shape=(image_size, image_size, 1), filters=32, kernel_size=(3,3), strides=(1,1), padding='same'))\n",
    "network.add(MaxPooling2D(pool_size=(2,2), strides=(1,1)))\n",
    "network.add(Conv2D(filters=32, kernel_size=(3,3), strides=(1,1), padding='same'))\n",
    "network.add(MaxPooling2D(pool_size=(2,2), strides=(1,1)))\n",
    "network.add(Conv2D(filters=64, kernel_size=(3,3), strides=(1,1), padding='same'))\n",
    "network.add(MaxPooling2D(pool_size=(2,2), strides=(1,1)))\n",
    "network.add(Conv2D(filters=32, kernel_size=(3,3), strides=(1,1), padding='same'))\n",
    "network.add(MaxPooling2D(pool_size=(2,2), strides=(1,1)))\n",
    "network.add(Flatten())\n",
    "network.add(Dense(units=32, activation='relu'))\n",
    "network.add(Dense(units=10, activation='softmax'))"
   ]
  },
  {
   "cell_type": "code",
   "execution_count": 8,
   "metadata": {},
   "outputs": [],
   "source": [
    "network.compile(optimizer='adam', loss = losses.categorical_crossentropy, metrics=['acc'])"
   ]
  },
  {
   "cell_type": "code",
   "execution_count": 9,
   "metadata": {},
   "outputs": [
    {
     "data": {
      "text/plain": [
       "(30, 30)"
      ]
     },
     "execution_count": 9,
     "metadata": {},
     "output_type": "execute_result"
    }
   ],
   "source": [
    "x_train[0].shape"
   ]
  },
  {
   "cell_type": "code",
   "execution_count": 10,
   "metadata": {},
   "outputs": [
    {
     "data": {
      "text/plain": [
       "(12180, 30, 30)"
      ]
     },
     "execution_count": 10,
     "metadata": {},
     "output_type": "execute_result"
    }
   ],
   "source": [
    "x_train = x_train / 255\n",
    "x_test = x_test / 255\n",
    "\n",
    "x_train.shape"
   ]
  },
  {
   "cell_type": "code",
   "execution_count": 11,
   "metadata": {},
   "outputs": [
    {
     "data": {
      "text/plain": [
       "(12180, 30, 30, 1)"
      ]
     },
     "execution_count": 11,
     "metadata": {},
     "output_type": "execute_result"
    }
   ],
   "source": [
    "x_train = x_train.reshape(x_train.shape[0], x_train[0].shape[0], x_train[0].shape[0], 1)\n",
    "x_test = x_test.reshape(x_test.shape[0], x_test[0].shape[0], x_test[0].shape[0], 1)\n",
    "x_train.shape"
   ]
  },
  {
   "cell_type": "code",
   "execution_count": 12,
   "metadata": {},
   "outputs": [],
   "source": [
    "y_train = to_categorical(y_train, num_classes=10)\n",
    "y_test = to_categorical(y_test, num_classes=10)"
   ]
  },
  {
   "cell_type": "code",
   "execution_count": 13,
   "metadata": {},
   "outputs": [],
   "source": [
    "filepath = './checkpoints/chekpoint' + \"-final-{epoch:02d}-{val_acc:.2f}.hdf5\"\n",
    "callbacks = [\n",
    "    EarlyStopping(monitor='acc', min_delta=0, patience=3, mode='auto'),\n",
    "    ModelCheckpoint(filepath=filepath, verbose=1, save_best_only=True)\n",
    "]"
   ]
  },
  {
   "cell_type": "code",
   "execution_count": 14,
   "metadata": {},
   "outputs": [
    {
     "name": "stdout",
     "output_type": "stream",
     "text": [
      "Train on 8526 samples, validate on 3654 samples\n",
      "Epoch 1/30\n",
      "8526/8526 [==============================] - 19s 2ms/step - loss: 0.1059 - acc: 0.9710 - val_loss: 2.2621e-06 - val_acc: 1.0000\n",
      "\n",
      "Epoch 00001: val_loss improved from inf to 0.00000, saving model to ./checkpoints/chekpoint-final-01-1.00.hdf5\n",
      "Epoch 2/30\n",
      "8526/8526 [==============================] - 19s 2ms/step - loss: 1.7132e-06 - acc: 1.0000 - val_loss: 9.9665e-07 - val_acc: 1.0000\n",
      "\n",
      "Epoch 00002: val_loss improved from 0.00000 to 0.00000, saving model to ./checkpoints/chekpoint-final-02-1.00.hdf5\n",
      "Epoch 3/30\n",
      "8526/8526 [==============================] - 19s 2ms/step - loss: 9.0863e-07 - acc: 1.0000 - val_loss: 6.5168e-07 - val_acc: 1.0000\n",
      "\n",
      "Epoch 00003: val_loss improved from 0.00000 to 0.00000, saving model to ./checkpoints/chekpoint-final-03-1.00.hdf5\n",
      "Epoch 4/30\n",
      "8526/8526 [==============================] - 19s 2ms/step - loss: 6.1541e-07 - acc: 1.0000 - val_loss: 4.7565e-07 - val_acc: 1.0000\n",
      "\n",
      "Epoch 00004: val_loss improved from 0.00000 to 0.00000, saving model to ./checkpoints/chekpoint-final-04-1.00.hdf5\n",
      "Epoch 5/30\n",
      "8526/8526 [==============================] - 19s 2ms/step - loss: 4.6671e-07 - acc: 1.0000 - val_loss: 3.8685e-07 - val_acc: 1.0000\n",
      "\n",
      "Epoch 00005: val_loss improved from 0.00000 to 0.00000, saving model to ./checkpoints/chekpoint-final-05-1.00.hdf5\n"
     ]
    }
   ],
   "source": [
    "history = network.fit(x_train, y_train, batch_size=64, epochs=30, verbose=1, callbacks=callbacks, validation_split=0.3)"
   ]
  },
  {
   "cell_type": "code",
   "execution_count": 15,
   "metadata": {},
   "outputs": [
    {
     "name": "stdout",
     "output_type": "stream",
     "text": [
      "6000/6000 [==============================] - 4s 623us/step\n"
     ]
    },
    {
     "data": {
      "text/plain": [
       "[4.006674403171928e-07, 1.0]"
      ]
     },
     "execution_count": 15,
     "metadata": {},
     "output_type": "execute_result"
    }
   ],
   "source": [
    "network.evaluate(x_test, y_test)"
   ]
  },
  {
   "cell_type": "code",
   "execution_count": 16,
   "metadata": {},
   "outputs": [],
   "source": [
    "# x = x / 255"
   ]
  },
  {
   "cell_type": "code",
   "execution_count": 17,
   "metadata": {},
   "outputs": [],
   "source": [
    "# x = x.reshape(x.shape[0], x[0].shape[0], x[0].shape[0], 1)\n",
    "# y = to_categorical(y, num_classes=10)"
   ]
  },
  {
   "cell_type": "code",
   "execution_count": 18,
   "metadata": {},
   "outputs": [],
   "source": [
    "# history = network.fit(x, y, batch_size=64, epochs=10, verbose=1)"
   ]
  },
  {
   "cell_type": "code",
   "execution_count": 19,
   "metadata": {},
   "outputs": [],
   "source": [
    "network.save('/home/strahinja/Desktop/valjda_kraj/new_kraj/neural_filtered.hdf5')"
   ]
  },
  {
   "cell_type": "code",
   "execution_count": null,
   "metadata": {},
   "outputs": [],
   "source": []
  }
 ],
 "metadata": {
  "kernelspec": {
   "display_name": "Python 3",
   "language": "python",
   "name": "python3"
  },
  "language_info": {
   "codemirror_mode": {
    "name": "ipython",
    "version": 3
   },
   "file_extension": ".py",
   "mimetype": "text/x-python",
   "name": "python",
   "nbconvert_exporter": "python",
   "pygments_lexer": "ipython3",
   "version": "3.7.4"
  }
 },
 "nbformat": 4,
 "nbformat_minor": 2
}
